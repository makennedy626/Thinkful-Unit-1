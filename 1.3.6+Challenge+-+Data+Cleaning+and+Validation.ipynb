{
 "cells": [
  {
   "cell_type": "markdown",
   "metadata": {},
   "source": [
    "1: Determine the five most common journals and the total articles for each. \n",
    "2: Next, calculate the mean, median, and standard deviation of the open-access cost per article for each journal . You will need to do considerable data cleaning in order to extract accurate estimates. \n",
    "3: For a real bonus round, identify the open access prices paid by subject area."
   ]
  },
  {
   "cell_type": "code",
   "execution_count": 10,
   "metadata": {
    "collapsed": false
   },
   "outputs": [],
   "source": [
    "# Import the necessary modules\n",
    "import re\n",
    "import matplotlib.pyplot as plt\n",
    "import pandas as pd\n",
    "import numpy as np\n",
    "\n",
    "# Create a dataframe from the csv file, downloaded from dropbox\n",
    "df = pd.read_csv('C:\\\\Users\\\\maken\\\\WELLCOME_APCspend2013_forThinkful.csv', encoding=\"latin-1\")"
   ]
  },
  {
   "cell_type": "markdown",
   "metadata": {},
   "source": [
    "Determine the five most common journals and the total articles for each"
   ]
  },
  {
   "cell_type": "code",
   "execution_count": 27,
   "metadata": {
    "collapsed": false
   },
   "outputs": [
    {
     "name": "stdout",
     "output_type": "stream",
     "text": [
      "['PLoS One', 'PLoS ONE', 'Journal of Biological Chemistry', 'Nucleic Acids Research', 'Proceedings of the National Academy of Sciences']\n"
     ]
    }
   ],
   "source": [
    "Journal = df['Journal title']\n",
    "map(str.lower, df['Journal title'])\n",
    "\n",
    "word_counter = {}\n",
    "for word in Journal:\n",
    "    if word in word_counter:\n",
    "        word_counter[word] += 1\n",
    "    else:\n",
    "        word_counter[word] = 1\n",
    "        \n",
    "popular_words = sorted(word_counter, key = word_counter.get, reverse = True)\n",
    "\n",
    "top_5 = popular_words[:5]\n",
    "\n",
    "print(top_5)"
   ]
  },
  {
   "cell_type": "code",
   "execution_count": 20,
   "metadata": {
    "collapsed": false
   },
   "outputs": [],
   "source": [
    "# TODO Convert all journal titles to lowercase to prevent PLoS One and PLoS ONE from being taken as two titles\n",
    "# TODO count and print the number of articles for each of the top titles"
   ]
  },
  {
   "cell_type": "markdown",
   "metadata": {},
   "source": [
    "Calculate the mean, median, and standard deviation of the open-access cost per article for each journal. You will need to do considerable data cleaning in order to extract accurate estimates."
   ]
  },
  {
   "cell_type": "code",
   "execution_count": 21,
   "metadata": {
    "collapsed": true
   },
   "outputs": [],
   "source": [
    "# Group prices by journal\n",
    "# Fix prices so that they are integers rather than having a pound sign\n",
    "# Calculate mean, median, and standard deviation for each group"
   ]
  },
  {
   "cell_type": "markdown",
   "metadata": {},
   "source": [
    "For a real bonus round, identify the open access prices paid by subject area."
   ]
  },
  {
   "cell_type": "code",
   "execution_count": null,
   "metadata": {
    "collapsed": true
   },
   "outputs": [],
   "source": [
    "# Print a list of Journal Titles without duplicates\n",
    "# Categorize the items in this list \n",
    "# Associate all titles to a subject area (i.e. if it has 'chem,' then assign it to chemistry)"
   ]
  }
 ],
 "metadata": {
  "kernelspec": {
   "display_name": "Python 3",
   "language": "python",
   "name": "python3"
  },
  "language_info": {
   "codemirror_mode": {
    "name": "ipython",
    "version": 3
   },
   "file_extension": ".py",
   "mimetype": "text/x-python",
   "name": "python",
   "nbconvert_exporter": "python",
   "pygments_lexer": "ipython3",
   "version": "3.6.0"
  }
 },
 "nbformat": 4,
 "nbformat_minor": 2
}
