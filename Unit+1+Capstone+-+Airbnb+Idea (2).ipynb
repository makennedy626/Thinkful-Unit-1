{
 "cells": [
  {
   "cell_type": "markdown",
   "metadata": {},
   "source": [
    "Need to label axes and give plot titles\n",
    "\n",
    "Add some more comments to important lines of code\n",
    "\n",
    "Need to provide text analysis on each plot"
   ]
  },
  {
   "cell_type": "markdown",
   "metadata": {},
   "source": [
    "### First, dive in and explore the data set. Include your code and visuals from this process in your final write up. While doing this, look for something that provokes a question; specifically one that can be answered with an experiment.\n",
    "    Use the dataset from Airbnb that focuses on Austin from the previous Thinkful exercises. \n",
    "    Create visualizations of interesting bits of data. \n",
    "    Find correlations between certain fields and the host's review score. "
   ]
  },
  {
   "cell_type": "code",
   "execution_count": null,
   "metadata": {
    "collapsed": true
   },
   "outputs": [],
   "source": [
    "# Import the necessary features for this report\n",
    "import pandas as pd\n",
    "import numpy as np\n",
    "import matplotlib.pyplot as plt\n",
    "import seaborn as sns\n",
    "import scipy.stats as stats\n",
    "\n",
    "# Improve the aesthetics\n",
    "sns.set_style(\"white\")\n",
    "\n",
    "# Import the data\n",
    "df = pd.read_csv('C:\\\\Users\\\\maken\\\\Fixed_Listings.csv')"
   ]
  },
  {
   "cell_type": "code",
   "execution_count": null,
   "metadata": {
    "collapsed": false
   },
   "outputs": [],
   "source": [
    "# Let's find some interesting datapoints that might have an affect on a host's review_scores_rating\n",
    "\n",
    "# Create a new dataframe with a subset of the data\n",
    "df_bedrooms = df.loc[:,['review_scores_rating', 'bedrooms']]\n",
    "df_bedrooms = df_bedrooms.dropna()\n",
    "\n",
    "# Make a scatter plot\n",
    "plt.scatter( df_bedrooms['bedrooms'], df_bedrooms['review_scores_rating'])\n",
    "plt.ylabel('Review Scores Rating')\n",
    "plt.xlabel('Number of Bedrooms')\n",
    "plt.title('Plot 1: Impact of Bedroom Count on Review Scores Rating')\n",
    "plt.show()"
   ]
  },
  {
   "cell_type": "code",
   "execution_count": null,
   "metadata": {
    "collapsed": false
   },
   "outputs": [],
   "source": [
    "# Let's separate bedrooms into individual groups and calculate their average review_scores_rating\n",
    "df_bedrooms['bed_0'] = np.where(df_bedrooms['bedrooms'] == 0, 1, 0)\n",
    "df_bedrooms['bed_1'] = np.where(df_bedrooms['bedrooms'] == 1, 1, 0)\n",
    "df_bedrooms['bed_2'] = np.where(df_bedrooms['bedrooms'] == 2, 1, 0)\n",
    "df_bedrooms['bed_3'] = np.where(df_bedrooms['bedrooms'] == 3, 1, 0)\n",
    "df_bedrooms['bed_4'] = np.where(df_bedrooms['bedrooms'] == 4, 1, 0)\n",
    "df_bedrooms['bed_5'] = np.where(df_bedrooms['bedrooms'] == 5, 1, 0)\n",
    "df_bedrooms['bed_6'] = np.where(df_bedrooms['bedrooms'] == 6, 1, 0)\n",
    "df_bedrooms['bed_7'] = np.where(df_bedrooms['bedrooms'] == 7, 1, 0)\n",
    "df_bedrooms['bed_8'] = np.where(df_bedrooms['bedrooms'] == 8, 1, 0)\n",
    "df_bedrooms['bed_9'] = np.where(df_bedrooms['bedrooms'] == 9, 1, 0)\n",
    "df_bedrooms['bed_10'] = np.where(df_bedrooms['bedrooms'] == 10, 1, 0)\n",
    "\n",
    "# Make a list to store these groups\n",
    "features = [df_bedrooms['bed_0'], df_bedrooms['bed_1'], df_bedrooms['bed_2'], df_bedrooms['bed_3'], df_bedrooms['bed_4'], df_bedrooms['bed_5'], df_bedrooms['bed_6'], df_bedrooms['bed_7'], df_bedrooms['bed_8'], df_bedrooms['bed_9'], df_bedrooms['bed_10']]\n",
    "\n",
    "# Make a method to print the averages for each group\n",
    "for i in features:\n",
    "    Message = ('Average Rating for {} bedroom(s): {}').format(i, df[i].mean())\n",
    "    print(Message)"
   ]
  },
  {
   "cell_type": "markdown",
   "metadata": {},
   "source": [
    "# Write an analysis based on the results"
   ]
  },
  {
   "cell_type": "code",
   "execution_count": null,
   "metadata": {
    "collapsed": false
   },
   "outputs": [],
   "source": [
    "# Compare response rate to review_scores_rating\n",
    "\n",
    "df_response = df.loc[:, ['host_response_rate', 'review_scores_rating']].dropna()\n",
    "# Remove the % sign and convert the string to integer\n",
    "df_response['host_response_rate'] = df_response['host_response_rate'].str.rstrip('%').astype(int)\n",
    "plt.scatter(df_response['host_response_rate'], df_response['review_scores_rating'])\n",
    "plt.ylabel('Review Scores Rating')\n",
    "plt.xlabel('Host Response Rate')\n",
    "plt.title('Impact of Host Response Rate on Review Scores Rating')\n",
    "plt.show()"
   ]
  },
  {
   "cell_type": "markdown",
   "metadata": {},
   "source": [
    "# Write an analysis based on the results"
   ]
  },
  {
   "cell_type": "code",
   "execution_count": null,
   "metadata": {
    "collapsed": false
   },
   "outputs": [],
   "source": [
    "# Create a new dataframe with a subset of the data\n",
    "df_ver = df.loc[:, ['host_identity_verified', 'review_scores_rating']]\n",
    "\n",
    "# Convert the strings 't' and 'f' to boolean\n",
    "df_ver['host_identity_verified'] = np.where(df_ver['host_identity_verified'] == 't', 1, 0)\n",
    "df_box = df_ver.dropna()\n",
    "\n",
    "# Create the box plot\n",
    "df_box = pd.melt(df_box, id_vars = ['host_identity_verified'], value_vars = ['review_scores_rating'])\n",
    "g = sns.FacetGrid(df_box, col='variable', size = 10, aspect = .5)\n",
    "g = g.map(sns.boxplot, 'host_identity_verified', 'value')\n",
    "sns.plt.title('Plot 3: Impact of Host Identity Verification on Review Scores Rating')\n",
    "g.set(xlabel = '', ylabel = 'Review Scores Rating')\n",
    "plt.show()"
   ]
  },
  {
   "cell_type": "code",
   "execution_count": null,
   "metadata": {
    "collapsed": true
   },
   "outputs": [],
   "source": [
    "# Split the host_identity_verified column into two groups, then .describe()\n",
    "df_ver['Verified'] = df_ver['host_identity_verified'] == 1\n",
    "df_ver['Not_Verified'] = df_ver['host_identity_verified'] == 0\n",
    "\n",
    "df_ver['Verified'].describe()"
   ]
  },
  {
   "cell_type": "code",
   "execution_count": null,
   "metadata": {
    "collapsed": true
   },
   "outputs": [],
   "source": [
    "df_ver['Not_Verified'].describe()"
   ]
  },
  {
   "cell_type": "markdown",
   "metadata": {},
   "source": [
    "### Analysis that highlights your experimental hypothesis.\n",
    "\n",
    "    Hypothesis - A verified host will receive a higher review score. \n",
    "    Null Hypothesis - A verified host will not receive a higher review score.  "
   ]
  },
  {
   "cell_type": "markdown",
   "metadata": {},
   "source": [
    "### A rollout plan showing how you would implement and rollout the experiment."
   ]
  },
  {
   "cell_type": "markdown",
   "metadata": {},
   "source": [
    " Experiment Proposal:\n",
    "   \n",
    "\tTwo Versions: Verified hosts vs non-verified hosts.\n",
    "    \n",
    "\tTwo Samples: Show the hosts as verified to half of users and non-verified to the other half.\n",
    "    \n",
    "    Hypothesis: A verified host will receive a higher review score. \n",
    "    \n",
    "    Null Hypothesis: A verified host will not receive a higher review score. \n",
    "    \n",
    "    Outcomes of Interest: Review_score_rating for a host when he is shown as verified vs when he is shown as non-verified. \n",
    "    \n",
    "    Other Measured Variables: The locations of the units to areas of interest, the number of bedrooms, and the number of bathrooms. \n",
    "    \n",
    "    Proposal: Select a group of properties in Austin, Texas. Randomly select half the users to see that the host of the property is verified for any property they view. For the other half, show that the host is not verified. Collect data on the review_score_rating over the course of one year. Compare the review_score_rating for hosts when they are shown as verified vs when they are shown as non-verified. "
   ]
  },
  {
   "cell_type": "markdown",
   "metadata": {},
   "source": [
    "### An evaluation plan showing what constitutes success in this experiment"
   ]
  },
  {
   "cell_type": "markdown",
   "metadata": {
    "collapsed": true
   },
   "source": [
    "The experiment would be a success if a host's verification status is shown to have an effect on his review score ratings. The experiment could also be considered successful if the null hypothesis were shown to be true. \n",
    "\n",
    "Use difference of means to evaluate hypothesis."
   ]
  },
  {
   "cell_type": "markdown",
   "metadata": {},
   "source": [
    "# Use difference of means to evaluation hypothesis"
   ]
  }
 ],
 "metadata": {
  "kernelspec": {
   "display_name": "Python 3",
   "language": "python",
   "name": "python3"
  },
  "language_info": {
   "codemirror_mode": {
    "name": "ipython",
    "version": 3
   },
   "file_extension": ".py",
   "mimetype": "text/x-python",
   "name": "python",
   "nbconvert_exporter": "python",
   "pygments_lexer": "ipython3",
   "version": "3.6.0"
  }
 },
 "nbformat": 4,
 "nbformat_minor": 2
}
